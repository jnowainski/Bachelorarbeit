{
 "cells": [
  {
   "cell_type": "code",
   "execution_count": 15,
   "metadata": {
    "collapsed": true
   },
   "outputs": [],
   "source": [
    "#Cell for import and functions\n",
    "import numpy as np\n",
    "import pandas as pd\n",
    "\n",
    "import matplotlib.pyplot as plt\n",
    "\n",
    "from sklearn.manifold import TSNE\n",
    "\n",
    "#labels\n",
    "path_ft2t1 = '/home/julian/glove/haptic_exploration.multitarget/data/Fabian/labels_Trial2_t1_pol.csv'\n",
    "path_ft5t5 = '/home/julian/glove/haptic_exploration.multitarget/data/Fabian/labels_Trial5_t5_pol.csv'\n",
    "path_ft7t2 = '/home/julian/glove/haptic_exploration.multitarget/data/Fabian/labels_Trial7_t2_pol.csv'\n",
    "\n",
    "#ros\n",
    "ros_path_ft2t1 = '/home/julian/glove/haptic_exploration.multitarget/data/Fabian/Trial2_tac.csv'\n",
    "ros_path_ft5t5 = '/home/julian/glove/haptic_exploration.multitarget/data/Fabian/Trial5_tac.csv'\n",
    "ros_path_ft7t2 = '/home/julian/glove/haptic_exploration.multitarget/data/Fabian/Trial7_tac.csv'\n",
    "\n",
    "def extract_target(labels):\n",
    "    target = labels[0]\n",
    "    extracted = []\n",
    "    for i in labels:\n",
    "        if i == target:\n",
    "            extracted.append(i)\n",
    "        else:\n",
    "            break;\n",
    "    return extracted"
   ]
  },
  {
   "cell_type": "code",
   "execution_count": 21,
   "metadata": {
    "collapsed": false
   },
   "outputs": [],
   "source": [
    "#load data - labels\n",
    "labels_ft2t1 = pd.read_csv(path_ft2t1,header=None)\n",
    "labels_ft5t5 = pd.read_csv(path_ft5t5, header=None)\n",
    "labels_ft7t2 = pd.read_csv(path_ft7t2, header=None)\n",
    "\n",
    "#load data - ros\n",
    "ros_ft2t1 = pd.read_csv(ros_path_ft2t1, header=None, skiprows=1)\n",
    "ros_ft5t5 = pd.read_csv(ros_path_ft5t5, header=None, skiprows=1)\n",
    "ros_ft7t2 = pd.read_csv(ros_path_ft7t2, header=None, skiprows=1)\n",
    "\n",
    "#extract_target\n",
    "t1 = extract_target(labels_ft2t1)\n",
    "t5 = extract_target(labels_ft5t5)\n",
    "t2 = extract_target(labels_ft7t2)"
   ]
  },
  {
   "cell_type": "code",
   "execution_count": null,
   "metadata": {
    "collapsed": true
   },
   "outputs": [],
   "source": []
  }
 ],
 "metadata": {
  "kernelspec": {
   "display_name": "Python [conda root]",
   "language": "python",
   "name": "conda-root-py"
  },
  "language_info": {
   "codemirror_mode": {
    "name": "ipython",
    "version": 3
   },
   "file_extension": ".py",
   "mimetype": "text/x-python",
   "name": "python",
   "nbconvert_exporter": "python",
   "pygments_lexer": "ipython3",
   "version": "3.5.2"
  }
 },
 "nbformat": 4,
 "nbformat_minor": 2
}
